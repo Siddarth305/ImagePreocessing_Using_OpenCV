{
 "cells": [
  {
   "cell_type": "code",
   "execution_count": 1,
   "id": "6738d182-6819-48d1-9b9d-e3d54570922c",
   "metadata": {},
   "outputs": [
    {
     "name": "stdout",
     "output_type": "stream",
     "text": [
      "Requirement already satisfied: opencv-python in c:\\users\\aids\\anaconda3\\lib\\site-packages (4.10.0.84)\n",
      "Requirement already satisfied: numpy>=1.21.2 in c:\\users\\aids\\anaconda3\\lib\\site-packages (from opencv-python) (1.26.4)\n",
      "Note: you may need to restart the kernel to use updated packages.\n"
     ]
    }
   ],
   "source": [
    "pip install opencv-python"
   ]
  },
  {
   "cell_type": "code",
   "execution_count": null,
   "id": "92641b4b-6fcc-4a45-946a-8539e2489bf9",
   "metadata": {},
   "outputs": [
    {
     "name": "stdout",
     "output_type": "stream",
     "text": [
      "Dimensions: 113x200 pixels\n"
     ]
    }
   ],
   "source": [
    "import cv2\n",
    "\n",
    "# Step 1: Read the image\n",
    "input_image_path = 'Downloads/download.jpg'  # Change this to your image path\n",
    "image = cv2.imread(input_image_path)\n",
    "\n",
    "# Check if the image was loaded successfully\n",
    "if image is None:\n",
    "    print(f\"Error: Unable to load image at {input_image_path}\")\n",
    "    exit()\n",
    "\n",
    "# Step 2: Convert to grayscale\n",
    "gray_image = cv2.cvtColor(image, cv2.COLOR_BGR2GRAY)\n",
    "\n",
    "# Step 3: Rotate the image (e.g., 90 degrees clockwise)\n",
    "# First, we need to get the image center\n",
    "(h, w) = gray_image.shape[:2]\n",
    "center = (w // 2, h // 2)\n",
    "\n",
    "# Create a rotation matrix and perform the rotation\n",
    "rotation_matrix = cv2.getRotationMatrix2D(center, angle=90, scale=1.0)\n",
    "rotated_image = cv2.warpAffine(gray_image, rotation_matrix, (w, h))\n",
    "\n",
    "# Step 4: Crop the image\n",
    "# Define the cropping rectangle (x, y, width, height)\n",
    "x, y, width, height = 50, 50, 200, 200  # Change these values as needed\n",
    "cropped_image = rotated_image[y:y + height, x:x + width]\n",
    "\n",
    "# Step 5: Blur the image (using GaussianBlur)\n",
    "blurred_image = cv2.GaussianBlur(cropped_image, (5, 5), 0)\n",
    "\n",
    "# Step 6: Find the pixel size and dimensions\n",
    "dimensions = blurred_image.shape  # (height, width, channels)\n",
    "height, width = dimensions[:2]\n",
    "print(f\"Dimensions: {height}x{width} pixels\")\n",
    "\n",
    "# Show the images (optional)\n",
    "cv2.imshow('Original Image', image)\n",
    "cv2.imshow('Grayscale Image', gray_image)\n",
    "cv2.imshow('Rotated Image', rotated_image)\n",
    "cv2.imshow('Cropped Image', cropped_image)\n",
    "cv2.imshow('Blurred Image', blurred_image)\n",
    "\n",
    "# Wait for a key press and close all windows\n",
    "cv2.waitKey(0)\n",
    "cv2.destroyAllWindows()\n",
    "\n",
    "# Save the processed images (optional)\n",
    "cv2.imwrite('blurred_image.jpg', blurred_image)\n"
   ]
  }
 ],
 "metadata": {
  "kernelspec": {
   "display_name": "Python 3 (ipykernel)",
   "language": "python",
   "name": "python3"
  },
  "language_info": {
   "codemirror_mode": {
    "name": "ipython",
    "version": 3
   },
   "file_extension": ".py",
   "mimetype": "text/x-python",
   "name": "python",
   "nbconvert_exporter": "python",
   "pygments_lexer": "ipython3",
   "version": "3.11.7"
  }
 },
 "nbformat": 4,
 "nbformat_minor": 5
}
